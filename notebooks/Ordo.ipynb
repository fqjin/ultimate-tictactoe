{
 "cells": [
  {
   "cell_type": "code",
   "execution_count": 1,
   "metadata": {
    "pycharm": {
     "is_executing": false
    }
   },
   "outputs": [],
   "source": [
    "import numpy as np\n",
    "import pandas as pd\n",
    "import matplotlib.pyplot as plt\n",
    "import os\n",
    "os.chdir('../ordo')"
   ]
  },
  {
   "cell_type": "code",
   "execution_count": 2,
   "metadata": {
    "pycharm": {
     "is_executing": false,
     "name": "#%%\n"
    }
   },
   "outputs": [],
   "source": [
    "models = {\n",
    "    '00000' : 0,\n",
    "    'newplane_from00000_100_1000bs2048lr0.1d0.001e3' : 1000,\n",
    "    'from00000_150_1500bs2048lr0.1d0.001e3' : 1500,\n",
    "    'scr_dl_200_2000bs2048lr0.1d0.001e3' : 2000,\n",
    "    '250_2500bs2048lr0.1d0.001e4' : 2500,\n",
    "    '300_3000bs2048lr0.1d0.001e4' : 3000,\n",
    "    '350_3500bs2048lr0.1d0.001e5' : 3500,\n",
    "    '400_4000bs2048lr0.1d0.001e4' : 4000,\n",
    "    '450_4500bs2048lr0.1d0.001e4' : 4500,\n",
    "    '500_5000bs2048lr0.1d0.001e4' : 5000,\n",
    "    '600_6000bs2048lr0.1d0.001e4' : 6000,\n",
    "    '700_7000bs2048lr0.1d0.001e4' : 7000,\n",
    "    '800_8000bs2048lr0.1d0.001e4' : 8000,\n",
    "    '900_9000bs2048lr0.1d0.001e5' : 9000,\n",
    "    '1000_10000bs2048lr0.1d0.001e5' : 10000,\n",
    "    '1100_11000bs2048lr0.1d0.001e5' : 11000,\n",
    "    '1200_12000bs2048lr0.1d0.001e5' : 12000,\n",
    "    '1300_13000bs2048lr0.1d0.001e5' : 13000,\n",
    "    '1400_14000bs2048lr0.1d0.001e6' : 14000,\n",
    "    '1500_15000bs2048lr0.1d0.001e7' : 15000,\n",
    "    '1600_16000bs2048lr0.1d0.001e6' : 16000,\n",
    "    '1700_17000bs2048lr0.1d0.001e5' : 17000,\n",
    "    '1800_18000bs2048lr0.1d0.001e8' : 18000,\n",
    "    '1900_19000bs2048lr0.1d0.001e5' : 19000,\n",
    "}"
   ]
  },
  {
   "cell_type": "code",
   "execution_count": 3,
   "metadata": {
    "pycharm": {
     "is_executing": false,
     "name": "#%%\n"
    }
   },
   "outputs": [
    {
     "name": "stdout",
     "output_type": "stream",
     "text": [
      "Reading net19000.txt\n"
     ]
    }
   ],
   "source": [
    "n = max(models.values())\n",
    "filename = f'net{n}.txt'\n",
    "print('Reading ' + filename)\n",
    "lines = []\n",
    "with open(filename, 'r') as f:\n",
    "    f.readline()\n",
    "    f.readline()\n",
    "    x = f.readline()\n",
    "    while x != '\\n':\n",
    "        lines.append(x)\n",
    "        x = f.readline()"
   ]
  },
  {
   "cell_type": "code",
   "execution_count": 4,
   "metadata": {
    "pycharm": {
     "is_executing": false,
     "name": "#%%\n"
    }
   },
   "outputs": [],
   "source": [
    "ngames = []\n",
    "rating = []\n",
    "errors = []\n",
    "for line in lines:\n",
    "    line = line.split()\n",
    "    ngames.append(models[line[1]])\n",
    "    rating.append(float(line[3]))\n",
    "    try:\n",
    "        errors.append(float(line[4]))\n",
    "    except ValueError:\n",
    "        errors.append(0.0)"
   ]
  },
  {
   "cell_type": "code",
   "execution_count": 5,
   "metadata": {
    "pycharm": {
     "is_executing": false,
     "name": "#%%\n"
    }
   },
   "outputs": [],
   "source": [
    "results = pd.DataFrame(data={'ngames': ngames,\n",
    "                             'rating': rating,\n",
    "                             'errors': errors})\n",
    "results = results.sort_values('ngames')"
   ]
  },
  {
   "cell_type": "code",
   "execution_count": 6,
   "metadata": {
    "pycharm": {
     "is_executing": false,
     "name": "#%%\n"
    }
   },
   "outputs": [
    {
     "data": {
      "image/png": "[encoded data removed]",
      "text/plain": [
       "<Figure size 432x288 with 1 Axes>"
      ]
     },
     "metadata": {
      "needs_background": "light"
     },
     "output_type": "display_data"
    }
   ],
   "source": [
    "plt.rcParams.update({'font.size': 14})\n",
    "plt.errorbar(results['ngames'], \n",
    "             results['rating'],\n",
    "             results['errors'],\n",
    "             fmt='o-')\n",
    "plt.ylabel('Ordo rating')\n",
    "plt.xlabel('Training games')\n",
    "plt.tight_layout()\n",
    "plt.savefig('../images/Ordo.png', dpi=200)\n",
    "plt.show()"
   ]
  },
  {
   "cell_type": "code",
   "execution_count": null,
   "metadata": {},
   "outputs": [],
   "source": []
  }
 ],
 "metadata": {
  "kernelspec": {
   "display_name": "Python 3",
   "language": "python",
   "name": "python3"
  },
  "language_info": {
   "codemirror_mode": {
    "name": "ipython",
    "version": 3
   },
   "file_extension": ".py",
   "mimetype": "text/x-python",
   "name": "python",
   "nbconvert_exporter": "python",
   "pygments_lexer": "ipython3",
   "version": "3.7.5"
  },
  "pycharm": {
   "stem_cell": {
    "cell_type": "raw",
    "metadata": {
     "collapsed": false
    },
    "source": []
   }
  }
 },
 "nbformat": 4,
 "nbformat_minor": 1
}
