{
 "cells": [
  {
   "cell_type": "markdown",
   "metadata": {},
   "source": [
    "# Selfplay with Alpha-Beta search"
   ]
  },
  {
   "cell_type": "code",
   "execution_count": 1,
   "metadata": {},
   "outputs": [],
   "source": [
    "import matplotlib.pyplot as plt\n",
    "import numpy as np\n",
    "import pandas as pd\n",
    "import seaborn as sns\n",
    "import torch\n",
    "from tqdm import tqdm\n",
    "import os\n",
    "os.chdir('../selfplayAB/')\n",
    "import sys\n",
    "sys.path.append('../src')\n",
    "from engine import BigBoard"
   ]
  },
  {
   "cell_type": "code",
   "execution_count": 2,
   "metadata": {},
   "outputs": [
    {
     "name": "stdout",
     "output_type": "stream",
     "text": [
      "Got 10000 games\n"
     ]
    },
    {
     "name": "stderr",
     "output_type": "stream",
     "text": [
      "10000it [00:18, 545.14it/s]\n"
     ]
    }
   ],
   "source": [
    "results = []\n",
    "first_moves = []\n",
    "second_moves = []\n",
    "len_games = []\n",
    "final_boards = []\n",
    "\n",
    "xxx = np.load('data.zip')\n",
    "print(f'Got {len(xxx.files)} games')\n",
    "\n",
    "pbar = tqdm()\n",
    "for moves in xxx.values():\n",
    "    results.append(moves[-1, 0].item())\n",
    "    first_moves.append(moves[0])\n",
    "    second_moves.append(moves[1])\n",
    "    len_games.append(len(moves) - 1)\n",
    "    \n",
    "    a = BigBoard()\n",
    "    for m in moves[:-1]:\n",
    "        a.move(*m)\n",
    "    final_boards.append(np.array(a.boards))\n",
    "    \n",
    "    pbar.update()\n",
    "\n",
    "pbar.close()\n",
    "results = np.array(results)\n",
    "first_moves = np.array(first_moves)\n",
    "final_boards = np.stack(final_boards)\n",
    "final_boards = ((final_boards + 1) % 3) - 1"
   ]
  },
  {
   "cell_type": "code",
   "execution_count": 3,
   "metadata": {},
   "outputs": [],
   "source": [
    "data = pd.DataFrame(columns=['Games', 'X', 'O', 'T'])\n",
    "for i in range(0, len(results), 5000):\n",
    "    hist = np.histogram(results[i:i+5000], bins=[1,2,3,4], density=True)[0]\n",
    "    data = data.append({'Games': f'{i//1000+5}k',\n",
    "                        'X': hist[0],\n",
    "                        'O': hist[1],\n",
    "                        'T': hist[2],\n",
    "                        }, ignore_index=True)\n",
    "data = data.melt(id_vars='Games', var_name='Result', value_name='Percent')"
   ]
  },
  {
   "cell_type": "code",
   "execution_count": 4,
   "metadata": {},
   "outputs": [
    {
     "data": {
      "image/png": "[encoded data removed]",
      "text/plain": [
       "<Figure size 720x360 with 1 Axes>"
      ]
     },
     "metadata": {
      "needs_background": "light"
     },
     "output_type": "display_data"
    }
   ],
   "source": [
    "plt.figure(figsize=(10, 5))\n",
    "sns.barplot(x='Result', y='Percent', hue='Games', data=data, ci=None)\n",
    "plt.legend(loc='lower left', ncol=3)\n",
    "plt.show()"
   ]
  },
  {
   "cell_type": "code",
   "execution_count": 5,
   "metadata": {},
   "outputs": [
    {
     "data": {
      "image/png": "[encoded data removed]",
      "text/plain": [
       "<Figure size 360x288 with 1 Axes>"
      ]
     },
     "metadata": {
      "needs_background": "light"
     },
     "output_type": "display_data"
    }
   ],
   "source": [
    "n = len(data) // 3\n",
    "dat = data['Percent'].to_numpy()\n",
    "plt.figure(figsize=(5, 4))\n",
    "plt.bar(np.arange(n), dat[0:n]+dat[2*n:]+dat[n:2*n], color='#dd5555')\n",
    "plt.bar(np.arange(n), dat[0:n]+dat[2*n:], color='#55dd55')\n",
    "plt.bar(np.arange(n), dat[0:n], color='#5588dd')\n",
    "plt.show()"
   ]
  },
  {
   "cell_type": "code",
   "execution_count": 6,
   "metadata": {},
   "outputs": [
    {
     "data": {
      "image/png": "[encoded data removed]",
      "text/plain": [
       "<Figure size 360x432 with 2 Axes>"
      ]
     },
     "metadata": {
      "needs_background": "light"
     },
     "output_type": "display_data"
    }
   ],
   "source": [
    "n = (len(results)+4999) // 5000\n",
    "plt.subplots(figsize=(5, 6))\n",
    "for i in range(n):\n",
    "    plt.subplot(n, 1, i+1)\n",
    "    plt.hist(len_games[5000*i:5000*(i+1)], bins=np.arange(20, 80, 2), density=True)\n",
    "    plt.ylabel(f'{5*(i+1)}k')\n",
    "    plt.yticks([])\n",
    "    if i != n-1:\n",
    "        plt.xticks([])\n",
    "plt.xlabel('Length of selfplay games')\n",
    "plt.show()"
   ]
  },
  {
   "cell_type": "code",
   "execution_count": 7,
   "metadata": {},
   "outputs": [],
   "source": [
    "def plot_first_moves(first_moves):\n",
    "    grid = np.zeros((9,9))\n",
    "    for move in first_moves:\n",
    "        grid[move[0], move[1]] += 1\n",
    "    grid\n",
    "\n",
    "    grid = torch.tensor(grid).view(3, 3, 3, 3)\n",
    "    grid = torch.cat(grid.chunk(3, dim=0), dim=2)\n",
    "    grid = torch.cat(grid.chunk(3, dim=1), dim=3)\n",
    "    grid = grid.squeeze()\n",
    "    \n",
    "    plt.imshow(grid, vmin=0)\n",
    "    # plt.colorbar()"
   ]
  },
  {
   "cell_type": "code",
   "execution_count": 8,
   "metadata": {},
   "outputs": [
    {
     "data": {
      "image/png": "[encoded data removed]",
      "text/plain": [
       "<Figure size 1152x288 with 2 Axes>"
      ]
     },
     "metadata": {
      "needs_background": "light"
     },
     "output_type": "display_data"
    },
    {
     "data": {
      "image/png": "[encoded data removed]",
      "text/plain": [
       "<Figure size 1152x288 with 2 Axes>"
      ]
     },
     "metadata": {
      "needs_background": "light"
     },
     "output_type": "display_data"
    }
   ],
   "source": [
    "subplots = 5\n",
    "ranges = [\n",
    "    (   0, 5000),\n",
    "    (5000, 10000),\n",
    "]\n",
    "\n",
    "plt.subplots(figsize=(16, 4))\n",
    "for i, (a, b) in enumerate(ranges):\n",
    "    plt.subplot(1, subplots, i+1)\n",
    "    plot_first_moves(first_moves[a:b])\n",
    "    plt.title(f'{a}-{b}')\n",
    "plt.show()\n",
    "\n",
    "plt.subplots(figsize=(16, 4))\n",
    "for i, (a, b) in enumerate(ranges):\n",
    "    plt.subplot(1, subplots, i+1)\n",
    "    plot_first_moves(second_moves[a:b])\n",
    "    plt.title(f'{a}-{b}')\n",
    "plt.show()"
   ]
  },
  {
   "cell_type": "code",
   "execution_count": 9,
   "metadata": {},
   "outputs": [
    {
     "data": {
      "image/png": "[encoded data removed]",
      "text/plain": [
       "<Figure size 720x288 with 4 Axes>"
      ]
     },
     "metadata": {
      "needs_background": "light"
     },
     "output_type": "display_data"
    }
   ],
   "source": [
    "grid = np.zeros((9,9))\n",
    "gridX = np.zeros((9,9))\n",
    "gridO = np.zeros((9,9))\n",
    "for move, r in zip(first_moves, results):\n",
    "    grid[move[0], move[1]] += 1\n",
    "    if r == 1:\n",
    "        gridX[move[0], move[1]] += 1\n",
    "    elif r == 2:\n",
    "        gridO[move[0], move[1]] += 1\n",
    "        \n",
    "grid2 = (gridX - gridO) / grid\n",
    "grid2 = torch.tensor(grid2).view(3, 3, 3, 3)\n",
    "grid2 = torch.cat(grid2.chunk(3, dim=0), dim=2)\n",
    "grid2 = torch.cat(grid2.chunk(3, dim=1), dim=3)\n",
    "grid2 = grid2.squeeze()\n",
    "grid2 *= 100\n",
    "\n",
    "plt.figure(figsize=(10, 4))\n",
    "plt.subplot(121)\n",
    "plt.imshow(grid2, \n",
    "           vmin=-grid2.abs().max(), \n",
    "           vmax=grid2.abs().max(),\n",
    "           cmap='RdBu')\n",
    "plt.colorbar()\n",
    "plt.title('% X wins minus % O wins')\n",
    "\n",
    "##########\n",
    "       \n",
    "gridX = torch.tensor(gridX).view(3, 3, 3, 3)\n",
    "gridX = torch.cat(gridX.chunk(3, dim=0), dim=2)\n",
    "gridX = torch.cat(gridX.chunk(3, dim=1), dim=3)\n",
    "gridX = gridX.squeeze()\n",
    "\n",
    "gridO = torch.tensor(gridO).view(3, 3, 3, 3)\n",
    "gridO = torch.cat(gridO.chunk(3, dim=0), dim=2)\n",
    "gridO = torch.cat(gridO.chunk(3, dim=1), dim=3)\n",
    "gridO = gridO.squeeze()\n",
    "\n",
    "grid = torch.tensor(grid).view(3, 3, 3, 3)\n",
    "grid = torch.cat(grid.chunk(3, dim=0), dim=2)\n",
    "grid = torch.cat(grid.chunk(3, dim=1), dim=3)\n",
    "grid = grid.squeeze()\n",
    "\n",
    "gridX = gridX + gridX.transpose(0, 1)\n",
    "gridX = gridX + gridX.flip(0)\n",
    "gridX = gridX + gridX.flip(1)\n",
    "gridX /= 8\n",
    "\n",
    "gridO = gridO + gridO.transpose(0, 1)\n",
    "gridO = gridO + gridO.flip(0)\n",
    "gridO = gridO + gridO.flip(1)\n",
    "gridO /= 8\n",
    "\n",
    "grid = grid + grid.transpose(0, 1)\n",
    "grid = grid + grid.flip(0)\n",
    "grid = grid + grid.flip(1)\n",
    "grid /= 8\n",
    "\n",
    "grid = (gridX - gridO) / grid\n",
    "\n",
    "plt.subplot(122)\n",
    "plt.imshow(grid, \n",
    "           vmin=-grid.abs().max(), \n",
    "           vmax=grid.abs().max(),\n",
    "           cmap='RdBu')\n",
    "plt.colorbar()\n",
    "plt.title('%X-O D4 Averaging')\n",
    "plt.show()"
   ]
  },
  {
   "cell_type": "code",
   "execution_count": 10,
   "metadata": {},
   "outputs": [],
   "source": [
    "def plot_board(board, symmetric=True, scale_down=False):\n",
    "    grid = torch.tensor(board).view(3, 3, 3, 3).float()\n",
    "    grid = torch.cat(grid.chunk(3, dim=0), dim=2)\n",
    "    grid = torch.cat(grid.chunk(3, dim=1), dim=3)\n",
    "    grid = grid.squeeze()\n",
    "    \n",
    "    if symmetric:\n",
    "        grid = grid + grid.transpose(0, 1)\n",
    "        grid = grid + grid.flip(0)\n",
    "        grid = grid + grid.flip(1)\n",
    "        grid /= 8\n",
    "\n",
    "    if scale_down:\n",
    "        grid /= 1.5\n",
    "    else:\n",
    "        grid *= 1.5\n",
    "\n",
    "    plt.imshow(grid, vmin=-1, vmax=1, cmap='RdBu')\n",
    "\n",
    "# plot_board(np.mean(final_boards, axis=0))"
   ]
  },
  {
   "cell_type": "code",
   "execution_count": 11,
   "metadata": {},
   "outputs": [
    {
     "data": {
      "image/png": "[encoded data removed]",
      "text/plain": [
       "<Figure size 864x288 with 4 Axes>"
      ]
     },
     "metadata": {
      "needs_background": "light"
     },
     "output_type": "display_data"
    }
   ],
   "source": [
    "plt.figure(figsize=(12,4))\n",
    "plt.subplot(141)\n",
    "plot_board(np.mean(final_boards[results[-len(final_boards):] == 1], axis=0))\n",
    "plt.title('X wins')\n",
    "plt.subplot(142)\n",
    "plot_board(np.mean(final_boards[results[-len(final_boards):] == 2], axis=0))\n",
    "plt.title('O wins')\n",
    "plt.subplot(143)\n",
    "plot_board(np.mean(final_boards[results[-len(final_boards):] == 1], axis=0) - \\\n",
    "           np.mean(final_boards[results[-len(final_boards):] == 2], axis=0))\n",
    "plt.title('X - O wins')\n",
    "plt.subplot(144)\n",
    "plot_board(np.mean(final_boards[results[-len(final_boards):] == 3], axis=0))\n",
    "plt.title('Ties')\n",
    "plt.show()"
   ]
  },
  {
   "cell_type": "markdown",
   "metadata": {},
   "source": [
    "## Extra"
   ]
  },
  {
   "cell_type": "code",
   "execution_count": 25,
   "metadata": {},
   "outputs": [
    {
     "data": {
      "image/png": "[encoded data removed]",
      "text/plain": [
       "<Figure size 864x432 with 8 Axes>"
      ]
     },
     "metadata": {
      "needs_background": "light"
     },
     "output_type": "display_data"
    }
   ],
   "source": [
    "plt.subplots(figsize=(12, 6))\n",
    "for i in range(1, 9):\n",
    "    plt.subplot(2, 4, i)\n",
    "    plot_board(final_boards[-i], symmetric=False, scale_down=True)\n",
    "    plt.title(results[-i])\n",
    "plt.show()"
   ]
  },
  {
   "cell_type": "code",
   "execution_count": 27,
   "metadata": {},
   "outputs": [
    {
     "name": "stderr",
     "output_type": "stream",
     "text": [
      "100%|█████████████████████████████████████████████████████████████████████████████| 9999/9999 [00:36<00:00, 272.38it/s]\n"
     ]
    }
   ],
   "source": [
    "# Cannot allocate len x len x 9 x 9 array to do simultaneous comparisons\n",
    "duplicates = np.ones((len(final_boards), len(final_boards)), dtype=bool)\n",
    "for i in tqdm(range(len(final_boards) - 1)):\n",
    "    j = i + 1\n",
    "    diff = np.count_nonzero(np.abs(final_boards[j:] - final_boards[i]), axis=(1, 2))\n",
    "    duplicates[i, j:] = diff.astype(bool)"
   ]
  },
  {
   "cell_type": "code",
   "execution_count": 28,
   "metadata": {},
   "outputs": [
    {
     "data": {
      "text/plain": [
       "array([], shape=(0, 2), dtype=int64)"
      ]
     },
     "execution_count": 28,
     "metadata": {},
     "output_type": "execute_result"
    }
   ],
   "source": [
    "x, y = np.where(duplicates == False)\n",
    "duplicates = np.stack([x, y]).T\n",
    "duplicates"
   ]
  },
  {
   "cell_type": "code",
   "execution_count": 29,
   "metadata": {},
   "outputs": [
    {
     "data": {
      "image/png": "[encoded data removed]",
      "text/plain": [
       "<Figure size 864x288 with 2 Axes>"
      ]
     },
     "metadata": {
      "needs_background": "light"
     },
     "output_type": "display_data"
    }
   ],
   "source": [
    "plt.figure(figsize=(12, 4))\n",
    "plt.subplot(121)\n",
    "plt.plot(x, y, '.')\n",
    "plt.xlim([0, len(results)])\n",
    "plt.ylim([0, len(results)])\n",
    "plt.subplot(122)\n",
    "plt.hist(x, bins=list(range(0, len(results)+1000, 1000)))\n",
    "plt.show()"
   ]
  },
  {
   "cell_type": "code",
   "execution_count": null,
   "metadata": {},
   "outputs": [],
   "source": []
  }
 ],
 "metadata": {
  "kernelspec": {
   "display_name": "Python 3",
   "language": "python",
   "name": "python3"
  },
  "language_info": {
   "codemirror_mode": {
    "name": "ipython",
    "version": 3
   },
   "file_extension": ".py",
   "mimetype": "text/x-python",
   "name": "python",
   "nbconvert_exporter": "python",
   "pygments_lexer": "ipython3",
   "version": "3.7.5"
  }
 },
 "nbformat": 4,
 "nbformat_minor": 2
}
