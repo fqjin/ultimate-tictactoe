{
 "cells": [
  {
   "cell_type": "markdown",
   "metadata": {},
   "source": [
    "# Analysis of AB Value Net"
   ]
  },
  {
   "cell_type": "code",
   "execution_count": 1,
   "metadata": {},
   "outputs": [],
   "source": [
    "import os\n",
    "os.chdir('../src')\n",
    "import numpy as np\n",
    "import matplotlib.pyplot as plt\n",
    "import torch\n",
    "from engine import BigBoard\n",
    "from dataset import board_to_planes\n",
    "from network import ABNet\n",
    "from alphabeta import ABTree, RandABTree"
   ]
  },
  {
   "cell_type": "code",
   "execution_count": 2,
   "metadata": {},
   "outputs": [],
   "source": [
    "def load_model(name):\n",
    "    m = ABNet()\n",
    "    m.load_state_dict(torch.load(f'../models/{name}.pt', map_location='cpu'))\n",
    "    return m.eval()\n",
    "\n",
    "def value_head(m, board):\n",
    "    v = np.full((9,9), np.nan)\n",
    "    for i,j in np.ndindex(9,9):\n",
    "        if not board.legal_moves[i][j]:\n",
    "            continue\n",
    "        b = board.copy()\n",
    "        b.move(i, j)\n",
    "        with torch.no_grad():\n",
    "            value = m(board_to_planes(b))\n",
    "        v[i, j] = value\n",
    "    v = torch.tensor(v).view(3, 3, 3, 3)\n",
    "    v = torch.cat(v.chunk(3, dim=0), dim=2)\n",
    "    v = torch.cat(v.chunk(3, dim=1), dim=3)\n",
    "    return v.squeeze().numpy()\n",
    "\n",
    "\n",
    "cm = plt.cm.RdBu\n",
    "cm.set_bad('gray')    \n",
    "def plot_heads(v):\n",
    "    vmax = 100*np.nanmax(np.abs(v))\n",
    "    plt.imshow(100*v, vmin=-vmax, vmax=vmax, cmap=cm)\n",
    "    plt.colorbar()\n",
    "    # plt.title('Value Head (centi)')"
   ]
  },
  {
   "cell_type": "code",
   "execution_count": 3,
   "metadata": {
    "scrolled": false
   },
   "outputs": [
    {
     "name": "stdout",
     "output_type": "stream",
     "text": [
      "     X │   │   ┃   │ O │ O ┃   │   │ O \n",
      "    ───┼───┼───╋───┼───┼───╋───┼───┼───\n",
      "       │   │   ┃   │   │ X ┃ X │   │ X \n",
      "    ───┼───┼───╋───┼───┼───╋───┼───┼───\n",
      "       │ O │ O ┃ X │   │   ┃ X │   │   \n",
      "    ━━━━━━━━━━━╋━━━━━━━━━━━╋━━━━━━━━━━━\n",
      "       │   │   ┃   │   │ O ┃   │ O │   \n",
      "    ───┼───┼───╋───┼───┼───╋───┼───┼───\n",
      "     O │   │   ┃   │ O │   ┃ O │ X │   \n",
      "    ───┼───┼───╋───┼───┼───╋───┼───┼───\n",
      "     X │ X │ X ┃ O │   │ X ┃   │ O │   \n",
      "    ━━━━━━━━━━━╋━━━━━━━━━━━╋━━━━━━━━━━━\n",
      "       │   │ X ┃   │ X │   ┃ X │ X │ X \n",
      "    ───┼───┼───╋───┼───┼───╋───┼───┼───\n",
      "       │   │ X ┃ O │ X │   ┃   │   │ O \n",
      "    ───┼───┼───╋───┼───┼───╋───┼───┼───\n",
      "     O │ O │ O ┃   │ X │   ┃   │   │ O         \n",
      "Mover: O, sector: (2,)\n",
      "       │   │   \n",
      "    ───┼───┼───\n",
      "     X │ O │   \n",
      "    ───┼───┼───\n",
      "     O │ X │ X     \n"
     ]
    }
   ],
   "source": [
    "a = BigBoard()\n",
    "b = BigBoard(boards=[\n",
    "    (1,0,0,0,0,0,0,2,2),\n",
    "    (0,2,2,0,0,1,1,0,0),\n",
    "    (0,0,2,1,0,1,1,0,0),\n",
    "    (0,0,0,2,0,0,1,1,1),\n",
    "    (0,0,2,0,2,0,2,0,1),\n",
    "    (0,2,0,2,1,0,0,2,0),\n",
    "    (0,0,1,0,0,1,2,2,2),\n",
    "    (0,1,0,2,1,0,0,1,0),\n",
    "    (1,1,1,0,0,2,0,0,2)\n",
    "], mover=1, sectors=(2,))\n",
    "b.draw()\n",
    "\n",
    "c = b.copy()\n",
    "c.move(2,4)\n",
    "\n",
    "game1 = [(4, 4), (4, 0), (0, 5), (5, 5), (5, 7), (7, 7), (7, 5), (5, 8), (8, 3), (3, 3), (3, 7), (7, 8), (8, 0), (0, 0), (0, 8), (8, 6), (6, 5), (5, 2), (2, 3), (3, 6), (6, 8), (8, 8), (8, 1), (1, 1), (1, 3), (3, 0), (0, 2), (2, 2), (2, 6), (6, 2), (2, 0), (4, 6), (6, 1), (1, 8), (8, 2), (4, 3)]\n",
    "game2 = [(4, 4), (4, 6), (6, 6), (6, 1), (1, 1), (1, 5), (5, 5), (5, 0), (0, 0), (0, 1), (1, 2), (2, 1), (1, 0), (0, 8), (8, 8), (8, 0), (0, 3), (3, 2), (2, 2), (2, 6), (6, 0), (0, 2), (2, 5), (5, 7), (7, 7), (7, 8), (8, 5), (5, 6), (6, 3), (3, 8), (8, 2), (2, 7), (7, 2), (2, 4), (4, 5), (5, 3), (3, 3), (3, 7), (7, 4), (4, 0), (0, 4), (4, 1), (7, 1)]\n",
    "win1 = BigBoard()\n",
    "for m in game1[:-1]: win1.move(*m)\n",
    "win2 = BigBoard()\n",
    "for m in game2[:-1]: win2.move(*m)\n",
    "    \n",
    "def plot_abc(model):\n",
    "    plt.figure(figsize=(14, 4))\n",
    "    plt.subplot(131)\n",
    "    plot_heads(value_head(m, a))\n",
    "    plt.title('Starting position')\n",
    "    plt.subplot(132)\n",
    "    plot_heads(value_head(m, b))\n",
    "    plt.title('O can win')\n",
    "    plt.subplot(133)\n",
    "    plot_heads(value_head(m, c))\n",
    "    plt.title('X to draw')\n",
    "    plt.show()\n",
    "    "
   ]
  },
  {
   "cell_type": "markdown",
   "metadata": {},
   "source": [
    "* 2,1 is win for O in 2\n",
    "* 2,0 is win for O in 3\n",
    "* Other moves, X plays 2,0 to win the sector and guarantee at least a draw"
   ]
  },
  {
   "cell_type": "markdown",
   "metadata": {},
   "source": [
    "## 10k from random\n",
    "* Starting position favors center corners (see selfplay win rate analysis).\n",
    "* Seems like value network already evaluates endgame positions fairly well.\n",
    "* Overfit network seems to have a worse value head."
   ]
  },
  {
   "cell_type": "code",
   "execution_count": 4,
   "metadata": {},
   "outputs": [],
   "source": [
    "m = load_model('1000_10000bs2048lr0.1d0.001abe5')"
   ]
  },
  {
   "cell_type": "code",
   "execution_count": 5,
   "metadata": {},
   "outputs": [
    {
     "data": {
      "image/png": "[encoded data removed]",
      "text/plain": [
       "<Figure size 1008x288 with 6 Axes>"
      ]
     },
     "metadata": {
      "needs_background": "light"
     },
     "output_type": "display_data"
    }
   ],
   "source": [
    "plot_abc(m)"
   ]
  },
  {
   "cell_type": "code",
   "execution_count": 7,
   "metadata": {},
   "outputs": [],
   "source": [
    "m = load_model('1000_10000bs2048lr0.1d0.001abe10')"
   ]
  },
  {
   "cell_type": "code",
   "execution_count": 8,
   "metadata": {},
   "outputs": [
    {
     "data": {
      "image/png": "[encoded data removed]",
      "text/plain": [
       "<Figure size 1008x288 with 6 Axes>"
      ]
     },
     "metadata": {
      "needs_background": "light"
     },
     "output_type": "display_data"
    }
   ],
   "source": [
    "plot_abc(m)"
   ]
  },
  {
   "cell_type": "code",
   "execution_count": null,
   "metadata": {},
   "outputs": [],
   "source": []
  }
 ],
 "metadata": {
  "kernelspec": {
   "display_name": "Python 3",
   "language": "python",
   "name": "python3"
  },
  "language_info": {
   "codemirror_mode": {
    "name": "ipython",
    "version": 3
   },
   "file_extension": ".py",
   "mimetype": "text/x-python",
   "name": "python",
   "nbconvert_exporter": "python",
   "pygments_lexer": "ipython3",
   "version": "3.7.5"
  }
 },
 "nbformat": 4,
 "nbformat_minor": 2
}
