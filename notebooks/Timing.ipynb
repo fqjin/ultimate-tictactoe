{
 "cells": [
  {
   "cell_type": "markdown",
   "metadata": {},
   "source": [
    "# Batch size timing\n",
    "* CPU time scales linearly with batch size: $\\mathcal{O}(n)$\n",
    "* GPU time scales constant with batch size: $\\mathcal{O}(1)$ until batch size 172, then it becomes linear.\n",
    "* The slight increase in time between batch size 24 and 96 may be due to benchmarking. Re-benchmarking for this batch size might bring it down to 2.7\n",
    "* All FP16 is slower"
   ]
  },
  {
   "cell_type": "code",
   "execution_count": 1,
   "metadata": {},
   "outputs": [],
   "source": [
    "import matplotlib\n",
    "import matplotlib.pyplot as plt\n",
    "import numpy as np\n",
    "import pandas as pd\n",
    "matplotlib.rcParams.update({'font.size': 13})"
   ]
  },
  {
   "cell_type": "code",
   "execution_count": 2,
   "metadata": {},
   "outputs": [
    {
     "data": {
      "text/html": [
       "<div>\n",
       "<style scoped>\n",
       "    .dataframe tbody tr th:only-of-type {\n",
       "        vertical-align: middle;\n",
       "    }\n",
       "\n",
       "    .dataframe tbody tr th {\n",
       "        vertical-align: top;\n",
       "    }\n",
       "\n",
       "    .dataframe thead th {\n",
       "        text-align: right;\n",
       "    }\n",
       "</style>\n",
       "<table border=\"1\" class=\"dataframe\">\n",
       "  <thead>\n",
       "    <tr style=\"text-align: right;\">\n",
       "      <th></th>\n",
       "      <th>Batch Size</th>\n",
       "      <th>CPU Time (ms)</th>\n",
       "      <th>GPU Time (ms)</th>\n",
       "    </tr>\n",
       "  </thead>\n",
       "  <tbody>\n",
       "    <tr>\n",
       "      <th>0</th>\n",
       "      <td>1</td>\n",
       "      <td>2.48</td>\n",
       "      <td>2.67</td>\n",
       "    </tr>\n",
       "    <tr>\n",
       "      <th>1</th>\n",
       "      <td>2</td>\n",
       "      <td>2.81</td>\n",
       "      <td>2.67</td>\n",
       "    </tr>\n",
       "    <tr>\n",
       "      <th>2</th>\n",
       "      <td>3</td>\n",
       "      <td>3.33</td>\n",
       "      <td>2.66</td>\n",
       "    </tr>\n",
       "    <tr>\n",
       "      <th>3</th>\n",
       "      <td>4</td>\n",
       "      <td>3.73</td>\n",
       "      <td>2.74</td>\n",
       "    </tr>\n",
       "    <tr>\n",
       "      <th>4</th>\n",
       "      <td>5</td>\n",
       "      <td>4.20</td>\n",
       "      <td>2.66</td>\n",
       "    </tr>\n",
       "  </tbody>\n",
       "</table>\n",
       "</div>"
      ],
      "text/plain": [
       "   Batch Size   CPU Time (ms)  GPU Time (ms)\n",
       "0           1            2.48           2.67\n",
       "1           2            2.81           2.67\n",
       "2           3            3.33           2.66\n",
       "3           4            3.73           2.74\n",
       "4           5            4.20           2.66"
      ]
     },
     "execution_count": 2,
     "metadata": {},
     "output_type": "execute_result"
    }
   ],
   "source": [
    "data = pd.read_csv('../misc/timing.csv')\n",
    "data.head()"
   ]
  },
  {
   "cell_type": "code",
   "execution_count": 3,
   "metadata": {},
   "outputs": [
    {
     "data": {
      "image/png": "[encoded data removed]",
      "text/plain": [
       "<Figure size 432x288 with 1 Axes>"
      ]
     },
     "metadata": {
      "needs_background": "light"
     },
     "output_type": "display_data"
    }
   ],
   "source": [
    "plt.loglog(data.iloc[:,0], data.iloc[:,1:], '.', basex=2)\n",
    "plt.ylabel('Time (ms)')\n",
    "plt.xlabel('Batch Size')\n",
    "plt.xticks([1,4,16,64,256,1024])\n",
    "plt.gca().get_xaxis().set_major_formatter(matplotlib.ticker.ScalarFormatter())\n",
    "plt.legend(['CPU', 'GPU'])\n",
    "plt.show()"
   ]
  },
  {
   "cell_type": "code",
   "execution_count": 4,
   "metadata": {
    "scrolled": true
   },
   "outputs": [
    {
     "data": {
      "image/png": "[encoded data removed]",
      "text/plain": [
       "<Figure size 432x288 with 1 Axes>"
      ]
     },
     "metadata": {
      "needs_background": "light"
     },
     "output_type": "display_data"
    }
   ],
   "source": [
    "logdata = np.log(data)\n",
    "cpulogdata = logdata.dropna()\n",
    "cpudiff = cpulogdata.iloc[:,1].diff() / cpulogdata.iloc[:,0].diff()\n",
    "gpudiff = logdata.iloc[:,2].diff() / logdata.iloc[:,0].diff()\n",
    "\n",
    "plt.semilogx(np.exp(cpulogdata.iloc[:,0]), cpudiff, '.', basex=2)\n",
    "plt.semilogx(np.exp(logdata.iloc[:,0]), gpudiff, '.', basex=2)\n",
    "plt.title('Order growth')\n",
    "plt.ylim([-.1,1.1])\n",
    "plt.xlabel('Batch Size')\n",
    "plt.xticks([1,4,16,64,256,1024])\n",
    "plt.gca().get_xaxis().set_major_formatter(matplotlib.ticker.ScalarFormatter())\n",
    "plt.legend(['CPU', 'GPU'])\n",
    "plt.show()"
   ]
  },
  {
   "cell_type": "code",
   "execution_count": 5,
   "metadata": {},
   "outputs": [
    {
     "data": {
      "image/png": "[encoded data removed]",
      "text/plain": [
       "<Figure size 432x288 with 1 Axes>"
      ]
     },
     "metadata": {
      "needs_background": "light"
     },
     "output_type": "display_data"
    }
   ],
   "source": [
    "plt.semilogx(data.iloc[:-3,0], data.iloc[:-3,2], '.', color=plt.cm.tab10(1))\n",
    "plt.legend(['GPU'], loc='lower left')\n",
    "plt.ylabel('Time (ms)')\n",
    "plt.ylim([0, 3.5])\n",
    "plt.xlabel('Batch Size')\n",
    "plt.xticks([1,4,16,64,128,256])\n",
    "plt.gca().get_xaxis().set_major_formatter(matplotlib.ticker.ScalarFormatter())\n",
    "plt.show()"
   ]
  },
  {
   "cell_type": "markdown",
   "metadata": {},
   "source": [
    "# BatchNetTree timing"
   ]
  },
  {
   "cell_type": "code",
   "execution_count": null,
   "metadata": {},
   "outputs": [],
   "source": [
    "import numpy as np\n",
    "import torch\n",
    "from network import UTTTNet\n",
    "from net_player import NetPlayer\n",
    "from play import play\n",
    "\n",
    "best_net = '500_5000bs2048lr0.1d0.001e4'\n",
    "device = 'cpu'\n",
    "print(f'Using network {best_net}')\n",
    "m = UTTTNet()\n",
    "m.load_state_dict(torch.load(f'../models/{best_net}.pt',\n",
    "                             map_location=device))\n",
    "m = m.to(device).eval()\n",
    "\n",
    "from engine import *\n",
    "from tree import *\n",
    "from net_player import *"
   ]
  },
  {
   "cell_type": "code",
   "execution_count": null,
   "metadata": {},
   "outputs": [],
   "source": [
    "game2 = [(4, 4), (4, 0), (0, 0), (0, 8), (8, 8), (8, 1), (1, 1), (1, 3), (3, 3), (3, 7), (7, 7), (7, 3), (3, 6), (6, 7), (7, 6), (6, 1), (1, 0), (0, 3), (3, 0), (0, 5), (5, 5), (5, 7), (7, 8), (8, 2), (2, 2), (2, 5), (5, 8), (8, 0), (0, 4), (4, 6), (6, 6), (6, 4), (4, 3), (0, 2), (2, 1), (1, 2), (2, 0), (4, 1), (1, 5), (5, 1), (1, 4), (4, 2)]\n",
    "b = BigBoard()\n",
    "for move in game2[:-6]: \n",
    "    b.move(*move)\n",
    "\n",
    "b.draw()"
   ]
  },
  {
   "cell_type": "markdown",
   "metadata": {},
   "source": [
    "| Method              | Time (ms) per eval | Nodes to solve        |\n",
    "|:--------------------|:-------------------|:----------------------|\n",
    "| CPU                 | 2.45               | 788                   |\n",
    "| CPU Batching        | 2.98               | 788                   |\n",
    "| GPU                 | 1.10               | 843                   |\n",
    "| GPU Batching        | 0.78               | 843                   |"
   ]
  },
  {
   "cell_type": "code",
   "execution_count": null,
   "metadata": {},
   "outputs": [],
   "source": [
    "time1 = time()\n",
    "r = Root()\n",
    "t = NetTree(b, r, model=m, noise=False, device=device)\n",
    "for _ in range(5000):\n",
    "    t.explore()\n",
    "    if r.terminal[0]:\n",
    "        break\n",
    "print(time()-time1)\n",
    "print(f'Took {t.N.sum() - len(t.N)} nodes')\n",
    "print(t.Q_over_N())"
   ]
  },
  {
   "cell_type": "markdown",
   "metadata": {},
   "source": [
    "`cpu: 2.4513823986053467\n",
    "cuda: 2.98150634765625\n",
    "Took 788 nodes\n",
    "[-1. -1. -1. -1. -1. -1.]`"
   ]
  },
  {
   "cell_type": "code",
   "execution_count": null,
   "metadata": {},
   "outputs": [],
   "source": [
    "time1 = time()\n",
    "r = Root()\n",
    "t = BatchNetTree(b, r, model=m, noise=False, device=device)\n",
    "nodes_left = 5000\n",
    "while nodes_left:\n",
    "    nodes_searched = t.explore_batch(nodes_left=nodes_left)\n",
    "    nodes_left -= nodes_searched\n",
    "    # print(f'Nodes searched: {nodes_searched}, Nodes left: {nodes_left}')\n",
    "    if r.terminal[0]:\n",
    "        break\n",
    "print(time()-time1)\n",
    "print(f'Took {t.N.sum() - len(t.N)} nodes')\n",
    "print(t.Q_over_N())"
   ]
  },
  {
   "cell_type": "markdown",
   "metadata": {},
   "source": [
    "`cpu: 1.100592851638794\n",
    "cuda: 0.781869649887085\n",
    "Took 843 nodes\n",
    "[-1. -1. -1. -1. -1. -1.]`"
   ]
  },
  {
   "cell_type": "markdown",
   "metadata": {},
   "source": [
    "#### Game 2: 8 moves before loss analysis\n",
    "Estimated value is very close to previous single batch analysis. Value of best move off by 5%.\n",
    "\n",
    "`cuda: 51.80193281173706\n",
    "Took 50000 nodes\n",
    "[-0.1307422  -1.         -0.69468112 -1.         -0.702226   -1.\n",
    " -0.69159733]`"
   ]
  },
  {
   "cell_type": "code",
   "execution_count": 36,
   "metadata": {},
   "outputs": [
    {
     "data": {
      "text/html": [
       "<div>\n",
       "<style scoped>\n",
       "    .dataframe tbody tr th:only-of-type {\n",
       "        vertical-align: middle;\n",
       "    }\n",
       "\n",
       "    .dataframe tbody tr th {\n",
       "        vertical-align: top;\n",
       "    }\n",
       "\n",
       "    .dataframe thead th {\n",
       "        text-align: right;\n",
       "    }\n",
       "</style>\n",
       "<table border=\"1\" class=\"dataframe\">\n",
       "  <thead>\n",
       "    <tr style=\"text-align: right;\">\n",
       "      <th></th>\n",
       "      <th>Nodes Searched</th>\n",
       "      <th>Nodes Left</th>\n",
       "    </tr>\n",
       "  </thead>\n",
       "  <tbody>\n",
       "    <tr>\n",
       "      <th>0</th>\n",
       "      <td>3</td>\n",
       "      <td>49997</td>\n",
       "    </tr>\n",
       "    <tr>\n",
       "      <th>1</th>\n",
       "      <td>12</td>\n",
       "      <td>49985</td>\n",
       "    </tr>\n",
       "    <tr>\n",
       "      <th>2</th>\n",
       "      <td>17</td>\n",
       "      <td>49968</td>\n",
       "    </tr>\n",
       "    <tr>\n",
       "      <th>3</th>\n",
       "      <td>36</td>\n",
       "      <td>49932</td>\n",
       "    </tr>\n",
       "    <tr>\n",
       "      <th>4</th>\n",
       "      <td>83</td>\n",
       "      <td>49849</td>\n",
       "    </tr>\n",
       "  </tbody>\n",
       "</table>\n",
       "</div>"
      ],
      "text/plain": [
       "   Nodes Searched  Nodes Left\n",
       "0               3       49997\n",
       "1              12       49985\n",
       "2              17       49968\n",
       "3              36       49932\n",
       "4              83       49849"
      ]
     },
     "execution_count": 36,
     "metadata": {},
     "output_type": "execute_result"
    }
   ],
   "source": [
    "import matplotlib\n",
    "import matplotlib.pyplot as plt\n",
    "import numpy as np\n",
    "import pandas as pd\n",
    "matplotlib.rcParams.update({'font.size': 13})\n",
    "data = pd.read_csv('../misc/Game2-8.csv')\n",
    "data.head()"
   ]
  },
  {
   "cell_type": "code",
   "execution_count": 42,
   "metadata": {},
   "outputs": [
    {
     "data": {
      "image/png": "[encoded data removed]",
      "text/plain": [
       "<Figure size 1008x288 with 3 Axes>"
      ]
     },
     "metadata": {
      "needs_background": "light"
     },
     "output_type": "display_data"
    }
   ],
   "source": [
    "plt.figure(figsize=(14, 4))\n",
    "plt.subplot(131)\n",
    "plt.plot(data['Nodes Left'])\n",
    "plt.xlabel('Batch explores')\n",
    "plt.title('Nodes Left')\n",
    "plt.subplot(132)\n",
    "plt.plot(data['Nodes Searched'].rolling(50).mean())\n",
    "plt.xlabel('Batch explores')\n",
    "plt.title('Nodes Searched (smooth)')\n",
    "plt.subplot(133)\n",
    "plt.semilogx(np.arange(len(data['Nodes Searched']))+1, data['Nodes Searched'])\n",
    "plt.xlabel('Batch explores')\n",
    "plt.title('Nodes Searched (semilogx)')\n",
    "plt.show()"
   ]
  },
  {
   "cell_type": "markdown",
   "metadata": {},
   "source": [
    "For this specific example, the batch size stayed below ~150."
   ]
  },
  {
   "cell_type": "markdown",
   "metadata": {},
   "source": [
    "# Torchscript timing\n",
    "For a batch size of 1"
   ]
  },
  {
   "cell_type": "code",
   "execution_count": 1,
   "metadata": {},
   "outputs": [],
   "source": [
    "import os\n",
    "os.chdir('../src/')\n",
    "import matplotlib.pyplot as plt\n",
    "import numpy as np\n",
    "import torch\n",
    "from time import time\n",
    "from dataset import board_to_planes\n",
    "from engine import BigBoard\n",
    "from network import UTTTNet\n",
    "from selfplay import best_net"
   ]
  },
  {
   "cell_type": "code",
   "execution_count": 2,
   "metadata": {},
   "outputs": [
    {
     "name": "stdout",
     "output_type": "stream",
     "text": [
      "     O │ X │   ┃   │ O │ X ┃   │ O │   \n",
      "    ───┼───┼───╋───┼───┼───╋───┼───┼───\n",
      "     O │   │   ┃   │   │ X ┃   │ O │ O \n",
      "    ───┼───┼───╋───┼───┼───╋───┼───┼───\n",
      "       │   │   ┃   │ O │ X ┃ O │ O │   \n",
      "    ━━━━━━━━━━━╋━━━━━━━━━━━╋━━━━━━━━━━━\n",
      "       │   │   ┃   │ O │ X ┃ X │ O │ X \n",
      "    ───┼───┼───╋───┼───┼───╋───┼───┼───\n",
      "       │ X │   ┃   │ X │   ┃   │   │   \n",
      "    ───┼───┼───╋───┼───┼───╋───┼───┼───\n",
      "     X │   │   ┃   │   │ O ┃ X │ O │   \n",
      "    ━━━━━━━━━━━╋━━━━━━━━━━━╋━━━━━━━━━━━\n",
      "       │   │ X ┃ X │ X │ X ┃   │   │   \n",
      "    ───┼───┼───╋───┼───┼───╋───┼───┼───\n",
      "       │   │ O ┃   │   │   ┃   │ O │ X \n",
      "    ───┼───┼───╋───┼───┼───╋───┼───┼───\n",
      "       │   │   ┃   │ O │ X ┃   │ X │ O         \n",
      "Mover: O, sector: (6,)\n",
      "       │ X │ O \n",
      "    ───┼───┼───\n",
      "       │   │   \n",
      "    ───┼───┼───\n",
      "       │ X │       \n"
     ]
    }
   ],
   "source": [
    "moves = [(7, 2), (2, 6), (6, 2), (2, 4), (4, 2), (2, 7), (7, 0), (0, 0), (0, 1), (1, 1), (1, 5), (5, 7), (7, 8), (8, 8), (8, 5), (5, 1), (1, 8), (8, 4), (4, 4), (4, 8), (8, 7), (7, 7), (7, 1), (1, 7), (3, 4), (4, 1), (1, 2), (2, 5), (5, 2), (2, 1), (5, 0), (0, 3), (3, 6), (6, 5), (5, 6)]\n",
    "b = BigBoard()\n",
    "for move in moves:\n",
    "    b.move(*move)\n",
    "b.draw()"
   ]
  },
  {
   "cell_type": "code",
   "execution_count": null,
   "metadata": {},
   "outputs": [],
   "source": [
    "# torch.backends.cudnn.benchmark = True\n",
    "device = 'cpu'\n",
    "trace = True"
   ]
  },
  {
   "cell_type": "code",
   "execution_count": null,
   "metadata": {},
   "outputs": [],
   "source": [
    "print(f'Using network {best_net}')\n",
    "m = UTTTNet()\n",
    "m.load_state_dict(torch.load(f'../models/{best_net}.pt',\n",
    "                             map_location=device))\n",
    "m = m.to(device).eval()\n",
    "with torch.no_grad():\n",
    "    _ = m(board_to_planes(b).to(device))\n",
    "\n",
    "if trace:\n",
    "    m = torch.jit.trace(m, board_to_planes(b).to(device))\n",
    "\n",
    "t = time()\n",
    "v_total = 0\n",
    "with torch.no_grad():\n",
    "    for _ in range(1000):\n",
    "        p, v = m(board_to_planes(b).to(device))\n",
    "        v_total += v.item()\n",
    "t = time() - t\n",
    "print(f'Time (ms): {t}')\n",
    "print(f'Value (mu): {v_total}')"
   ]
  },
  {
   "cell_type": "markdown",
   "metadata": {},
   "source": [
    "#### Model eval results:\n",
    "| Method              | Time (ms) per eval | w/o `board_to_planes` |\n",
    "|:--------------------|:-------------------|:----------------------|\n",
    "| CPU                 | 2.82               | 2.44                  |\n",
    "| CPU Torchscript     | 2.14               | 1.72                  |\n",
    "| GPU                 | 3.37               | 2.90                  |\n",
    "| GPU w/ benchmarking | 3.13               | 2.67                  |\n",
    "| GPU Torchscript     | 2.43               | 1.95                  |\n",
    "\n",
    "Notes:\n",
    "* Torchscript is 30% faster for model eval.\n",
    "* Once I benchmarked cudnn, it stayed at the faster speed even when I turned it back off.\n",
    "\n",
    "#### Optimizing `boards_to_planes`\n",
    "| Method              | Time (ms) per eval |\n",
    "|:--------------------|:-------------------|\n",
    "| CPU                 | 0.39               |\n",
    "| CPU Torchscript     | 0.33               |\n",
    "| GPU                 | 0.41               |\n",
    "\n",
    "\n",
    "Notes:\n",
    "* 0.02 ms to move planes from cpu to cuda\n",
    "* CPU torchscript is 15% faster but perhaps not worth the trouble of wrapping the function"
   ]
  },
  {
   "cell_type": "code",
   "execution_count": null,
   "metadata": {},
   "outputs": [],
   "source": []
  }
 ],
 "metadata": {
  "kernelspec": {
   "display_name": "Python 3",
   "language": "python",
   "name": "python3"
  },
  "language_info": {
   "codemirror_mode": {
    "name": "ipython",
    "version": 3
   },
   "file_extension": ".py",
   "mimetype": "text/x-python",
   "name": "python",
   "nbconvert_exporter": "python",
   "pygments_lexer": "ipython3",
   "version": "3.7.5"
  }
 },
 "nbformat": 4,
 "nbformat_minor": 2
}
